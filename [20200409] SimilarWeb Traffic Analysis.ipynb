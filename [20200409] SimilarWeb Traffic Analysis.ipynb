{
 "cells": [
  {
   "cell_type": "markdown",
   "metadata": {},
   "source": [
    "##### Import relevant packages"
   ]
  },
  {
   "cell_type": "code",
   "execution_count": 3,
   "metadata": {},
   "outputs": [],
   "source": [
    "import pandas as pd\n",
    "import matplotlib"
   ]
  },
  {
   "cell_type": "markdown",
   "metadata": {},
   "source": [
    "##### Reference similarweb .csv files and read to DataFrames (need to be more programmatic)"
   ]
  },
  {
   "cell_type": "code",
   "execution_count": 4,
   "metadata": {},
   "outputs": [],
   "source": [
    "feb_data_file = 'similarweb_feb.csv'\n",
    "mar_data_file = 'similarweb_march.csv'"
   ]
  },
  {
   "cell_type": "code",
   "execution_count": 5,
   "metadata": {},
   "outputs": [],
   "source": [
    "df_feb = pd.read_csv(feb_data_file)\n",
    "df_mar = pd.read_csv(mar_data_file)"
   ]
  },
  {
   "cell_type": "markdown",
   "metadata": {},
   "source": [
    "##### Preview the top 5 rows of the February DataFrame"
   ]
  },
  {
   "cell_type": "code",
   "execution_count": 6,
   "metadata": {},
   "outputs": [
    {
     "data": {
      "text/html": [
       "<div>\n",
       "<style scoped>\n",
       "    .dataframe tbody tr th:only-of-type {\n",
       "        vertical-align: middle;\n",
       "    }\n",
       "\n",
       "    .dataframe tbody tr th {\n",
       "        vertical-align: top;\n",
       "    }\n",
       "\n",
       "    .dataframe thead th {\n",
       "        text-align: right;\n",
       "    }\n",
       "</style>\n",
       "<table border=\"1\" class=\"dataframe\">\n",
       "  <thead>\n",
       "    <tr style=\"text-align: right;\">\n",
       "      <th></th>\n",
       "      <th>Account Name</th>\n",
       "      <th>Name</th>\n",
       "      <th>Average Visit Duration</th>\n",
       "      <th>Website Category</th>\n",
       "      <th>2nd Traffic Country</th>\n",
       "      <th>Bounce Rate</th>\n",
       "      <th>Category Rank</th>\n",
       "      <th>Desktop Visits Share</th>\n",
       "      <th>Direct Visits Share</th>\n",
       "      <th>Display Ads Visits Share</th>\n",
       "      <th>...</th>\n",
       "      <th>Mobile Web  Visits Share</th>\n",
       "      <th>Monthly Unique Visitors</th>\n",
       "      <th>Pages Per Visit</th>\n",
       "      <th>Paid Search Visits Share</th>\n",
       "      <th>Total Monthly Visits</th>\n",
       "      <th>Total Visits MoM Growth</th>\n",
       "      <th>Top Traffic Country</th>\n",
       "      <th>Social Visits Share</th>\n",
       "      <th>Account ID</th>\n",
       "      <th>Snapshot Date</th>\n",
       "    </tr>\n",
       "  </thead>\n",
       "  <tbody>\n",
       "    <tr>\n",
       "      <th>0</th>\n",
       "      <td>Meez Culinary Solutions LLC</td>\n",
       "      <td>getmeez.com</td>\n",
       "      <td>NaN</td>\n",
       "      <td>NaN</td>\n",
       "      <td>NaN</td>\n",
       "      <td>NaN</td>\n",
       "      <td>NaN</td>\n",
       "      <td>0.00</td>\n",
       "      <td>NaN</td>\n",
       "      <td>NaN</td>\n",
       "      <td>...</td>\n",
       "      <td>0.00</td>\n",
       "      <td>0</td>\n",
       "      <td>NaN</td>\n",
       "      <td>NaN</td>\n",
       "      <td>NaN</td>\n",
       "      <td>-100.00</td>\n",
       "      <td>NaN</td>\n",
       "      <td>NaN</td>\n",
       "      <td>0012K00001fHHQN</td>\n",
       "      <td>2/1/20</td>\n",
       "    </tr>\n",
       "    <tr>\n",
       "      <th>1</th>\n",
       "      <td>PolyOne</td>\n",
       "      <td>polyone.com</td>\n",
       "      <td>0:04:07</td>\n",
       "      <td>Heavy Industry and Engineering/Chemical Industry</td>\n",
       "      <td>Canada</td>\n",
       "      <td>40.55</td>\n",
       "      <td>219.0</td>\n",
       "      <td>86.95</td>\n",
       "      <td>45.75</td>\n",
       "      <td>NaN</td>\n",
       "      <td>...</td>\n",
       "      <td>13.05</td>\n",
       "      <td>26475</td>\n",
       "      <td>4.45</td>\n",
       "      <td>2.48</td>\n",
       "      <td>64385.0</td>\n",
       "      <td>-18.36</td>\n",
       "      <td>United States</td>\n",
       "      <td>1.27</td>\n",
       "      <td>0012K00001ZKgZV</td>\n",
       "      <td>2/1/20</td>\n",
       "    </tr>\n",
       "    <tr>\n",
       "      <th>2</th>\n",
       "      <td>Town Boys and Girls Club</td>\n",
       "      <td>bgcnt.net</td>\n",
       "      <td>NaN</td>\n",
       "      <td>NaN</td>\n",
       "      <td>NaN</td>\n",
       "      <td>NaN</td>\n",
       "      <td>NaN</td>\n",
       "      <td>0.00</td>\n",
       "      <td>NaN</td>\n",
       "      <td>NaN</td>\n",
       "      <td>...</td>\n",
       "      <td>0.00</td>\n",
       "      <td>0</td>\n",
       "      <td>NaN</td>\n",
       "      <td>NaN</td>\n",
       "      <td>NaN</td>\n",
       "      <td>-100.00</td>\n",
       "      <td>NaN</td>\n",
       "      <td>NaN</td>\n",
       "      <td>0016A00000n9ySf</td>\n",
       "      <td>2/1/20</td>\n",
       "    </tr>\n",
       "    <tr>\n",
       "      <th>3</th>\n",
       "      <td>Key Packaging</td>\n",
       "      <td>keypackaging.com</td>\n",
       "      <td>NaN</td>\n",
       "      <td>NaN</td>\n",
       "      <td>NaN</td>\n",
       "      <td>NaN</td>\n",
       "      <td>NaN</td>\n",
       "      <td>0.00</td>\n",
       "      <td>NaN</td>\n",
       "      <td>NaN</td>\n",
       "      <td>...</td>\n",
       "      <td>0.00</td>\n",
       "      <td>0</td>\n",
       "      <td>NaN</td>\n",
       "      <td>NaN</td>\n",
       "      <td>NaN</td>\n",
       "      <td>-100.00</td>\n",
       "      <td>NaN</td>\n",
       "      <td>NaN</td>\n",
       "      <td>0016A00000n9vCp</td>\n",
       "      <td>2/1/20</td>\n",
       "    </tr>\n",
       "    <tr>\n",
       "      <th>4</th>\n",
       "      <td>Piedmont Rural Telephone Cooperative Inc</td>\n",
       "      <td>prtcnet.com</td>\n",
       "      <td>0:06:09</td>\n",
       "      <td>Health/Health</td>\n",
       "      <td>NaN</td>\n",
       "      <td>28.19</td>\n",
       "      <td>9777.0</td>\n",
       "      <td>90.92</td>\n",
       "      <td>86.11</td>\n",
       "      <td>NaN</td>\n",
       "      <td>...</td>\n",
       "      <td>9.08</td>\n",
       "      <td>8408</td>\n",
       "      <td>3.43</td>\n",
       "      <td>NaN</td>\n",
       "      <td>56630.0</td>\n",
       "      <td>-2.70</td>\n",
       "      <td>United States</td>\n",
       "      <td>0.04</td>\n",
       "      <td>0016A00000n9wkV</td>\n",
       "      <td>2/1/20</td>\n",
       "    </tr>\n",
       "  </tbody>\n",
       "</table>\n",
       "<p>5 rows × 24 columns</p>\n",
       "</div>"
      ],
      "text/plain": [
       "                               Account Name              Name  \\\n",
       "0               Meez Culinary Solutions LLC       getmeez.com   \n",
       "1                                   PolyOne       polyone.com   \n",
       "2                  Town Boys and Girls Club         bgcnt.net   \n",
       "3                             Key Packaging  keypackaging.com   \n",
       "4  Piedmont Rural Telephone Cooperative Inc       prtcnet.com   \n",
       "\n",
       "  Average Visit Duration                                  Website Category  \\\n",
       "0                    NaN                                               NaN   \n",
       "1                0:04:07  Heavy Industry and Engineering/Chemical Industry   \n",
       "2                    NaN                                               NaN   \n",
       "3                    NaN                                               NaN   \n",
       "4                0:06:09                                     Health/Health   \n",
       "\n",
       "  2nd Traffic Country  Bounce Rate  Category Rank  Desktop Visits Share  \\\n",
       "0                 NaN          NaN            NaN                  0.00   \n",
       "1              Canada        40.55          219.0                 86.95   \n",
       "2                 NaN          NaN            NaN                  0.00   \n",
       "3                 NaN          NaN            NaN                  0.00   \n",
       "4                 NaN        28.19         9777.0                 90.92   \n",
       "\n",
       "   Direct Visits Share  Display Ads Visits Share  ...  \\\n",
       "0                  NaN                       NaN  ...   \n",
       "1                45.75                       NaN  ...   \n",
       "2                  NaN                       NaN  ...   \n",
       "3                  NaN                       NaN  ...   \n",
       "4                86.11                       NaN  ...   \n",
       "\n",
       "  Mobile Web  Visits Share  Monthly Unique Visitors  Pages Per Visit  \\\n",
       "0                     0.00                        0              NaN   \n",
       "1                    13.05                    26475             4.45   \n",
       "2                     0.00                        0              NaN   \n",
       "3                     0.00                        0              NaN   \n",
       "4                     9.08                     8408             3.43   \n",
       "\n",
       "   Paid Search Visits Share  Total Monthly Visits  Total Visits MoM Growth  \\\n",
       "0                       NaN                   NaN                  -100.00   \n",
       "1                      2.48               64385.0                   -18.36   \n",
       "2                       NaN                   NaN                  -100.00   \n",
       "3                       NaN                   NaN                  -100.00   \n",
       "4                       NaN               56630.0                    -2.70   \n",
       "\n",
       "   Top Traffic Country  Social Visits Share       Account ID  Snapshot Date  \n",
       "0                  NaN                  NaN  0012K00001fHHQN         2/1/20  \n",
       "1        United States                 1.27  0012K00001ZKgZV         2/1/20  \n",
       "2                  NaN                  NaN  0016A00000n9ySf         2/1/20  \n",
       "3                  NaN                  NaN  0016A00000n9vCp         2/1/20  \n",
       "4        United States                 0.04  0016A00000n9wkV         2/1/20  \n",
       "\n",
       "[5 rows x 24 columns]"
      ]
     },
     "execution_count": 6,
     "metadata": {},
     "output_type": "execute_result"
    }
   ],
   "source": [
    "df_feb.head()"
   ]
  },
  {
   "cell_type": "markdown",
   "metadata": {},
   "source": [
    "##### Reorder columns to most logical sequencing (not required)"
   ]
  },
  {
   "cell_type": "code",
   "execution_count": 7,
   "metadata": {},
   "outputs": [],
   "source": [
    "df_feb.columns\n",
    "columns_ordered = ['Account ID','Account Name', 'Name', 'Domain', 'Website Category','Category Rank',\n",
    "                   'Global Rank', 'Top Traffic Country','2nd Traffic Country', 'Has Data','Total Monthly Visits',\n",
    "                   'Monthly Unique Visitors','Bounce Rate', 'Pages Per Visit', 'Average Visit Duration',\n",
    "                   'Total Visits MoM Growth','Desktop Visits Share', 'Mobile Web  Visits Share',\n",
    "                   'Direct Visits Share','Display Ads Visits Share','Mail Visits Share',\n",
    "                   'Paid Search Visits Share', 'Social Visits Share','Snapshot Date']\n",
    "df_feb = df_feb[columns_ordered]\n",
    "df_mar = df_mar[columns_ordered]"
   ]
  },
  {
   "cell_type": "markdown",
   "metadata": {},
   "source": [
    "##### Fill all #NAs with 0s for Monthly Visits and Paid Search/Display Ads columns"
   ]
  },
  {
   "cell_type": "code",
   "execution_count": 8,
   "metadata": {},
   "outputs": [],
   "source": [
    "df_feb['Total Monthly Visits'].fillna(0, inplace=True)\n",
    "df_feb['Paid Search Visits Share'].fillna(0, inplace=True)\n",
    "df_feb['Display Ads Visits Share'].fillna(0, inplace=True)\n",
    "\n",
    "df_mar['Total Monthly Visits'].fillna(0, inplace=True)\n",
    "df_mar['Paid Search Visits Share'].fillna(0, inplace=True)\n",
    "df_mar['Display Ads Visits Share'].fillna(0, inplace=True)"
   ]
  },
  {
   "cell_type": "markdown",
   "metadata": {},
   "source": [
    "##### Compute Total Ad Spend Visits Share (Paid Search + Display Ads) then calculate # of visits from Total Monthly Visits"
   ]
  },
  {
   "cell_type": "code",
   "execution_count": 9,
   "metadata": {},
   "outputs": [],
   "source": [
    "df_feb['Total Ad Spend Visits Share'] = df_feb['Paid Search Visits Share'] + df_feb['Display Ads Visits Share']\n",
    "df_feb['Total Ad Spend Visits'] = df_feb['Total Monthly Visits']*df_feb['Total Ad Spend Visits Share']/100\n",
    "\n",
    "df_mar['Total Ad Spend Visits Share'] = df_mar['Paid Search Visits Share'] + df_mar['Display Ads Visits Share']\n",
    "df_mar['Total Ad Spend Visits'] = df_mar['Total Monthly Visits']*df_mar['Total Ad Spend Visits Share']/100"
   ]
  },
  {
   "cell_type": "markdown",
   "metadata": {},
   "source": [
    "###### Slim down DataFrame for only relevant columns to be output to .csv"
   ]
  },
  {
   "cell_type": "code",
   "execution_count": 10,
   "metadata": {},
   "outputs": [],
   "source": [
    "df_feb_slim = df_feb[['Account ID', 'Account Name', 'Domain', 'Website Category', 'Total Monthly Visits',\n",
    "                     'Total Visits MoM Growth','Total Ad Spend Visits Share','Total Ad Spend Visits']]\n",
    "\n",
    "df_mar_slim = df_mar[['Account ID', 'Account Name', 'Domain', 'Website Category', 'Total Monthly Visits',\n",
    "                     'Total Visits MoM Growth','Total Ad Spend Visits Share','Total Ad Spend Visits']]"
   ]
  },
  {
   "cell_type": "markdown",
   "metadata": {},
   "source": [
    "###### Left join March and February, add suffixes to column names and drop redundant columns"
   ]
  },
  {
   "cell_type": "code",
   "execution_count": 11,
   "metadata": {},
   "outputs": [],
   "source": [
    "merged = df_mar_slim.merge(df_feb_slim,on=['Account ID'],how='left',suffixes=('_march', '_feb'))\n",
    "merged.drop(columns=['Account Name_feb', 'Domain_feb', 'Website Category_feb'], axis=1, inplace=True)"
   ]
  },
  {
   "cell_type": "markdown",
   "metadata": {},
   "source": [
    "##### Export merged DataFrame to .csv file on local repository"
   ]
  },
  {
   "cell_type": "code",
   "execution_count": 12,
   "metadata": {},
   "outputs": [],
   "source": [
    "merged.to_csv('feb_march_similarweb.csv')"
   ]
  },
  {
   "cell_type": "markdown",
   "metadata": {},
   "source": [
    "##### Other scratchwork below..."
   ]
  },
  {
   "cell_type": "code",
   "execution_count": 13,
   "metadata": {},
   "outputs": [
    {
     "data": {
      "text/plain": [
       "Index(['Account ID', 'Account Name_march', 'Domain_march',\n",
       "       'Website Category_march', 'Total Monthly Visits_march',\n",
       "       'Total Visits MoM Growth_march', 'Total Ad Spend Visits Share_march',\n",
       "       'Total Ad Spend Visits_march', 'Total Monthly Visits_feb',\n",
       "       'Total Visits MoM Growth_feb', 'Total Ad Spend Visits Share_feb',\n",
       "       'Total Ad Spend Visits_feb'],\n",
       "      dtype='object')"
      ]
     },
     "execution_count": 13,
     "metadata": {},
     "output_type": "execute_result"
    }
   ],
   "source": [
    "merged.columns"
   ]
  },
  {
   "cell_type": "code",
   "execution_count": 16,
   "metadata": {},
   "outputs": [],
   "source": [
    "merged['Total Visits Delta'] = merged['Total Monthly Visits_march'] - merged['Total Monthly Visits_feb']\n",
    "merged['Total Ad Visits Delta'] = merged['Total Ad Spend Visits_march'] - merged['Total Ad Spend Visits_feb']"
   ]
  },
  {
   "cell_type": "code",
   "execution_count": 19,
   "metadata": {},
   "outputs": [],
   "source": [
    "merged[['Website Vertical','Website Industry']] = merged['Website Category_march'].str.split('/',expand=True)"
   ]
  },
  {
   "cell_type": "code",
   "execution_count": 22,
   "metadata": {},
   "outputs": [],
   "source": [
    "vertical = merged.groupby('Website Vertical')[['Total Visits Delta','Total Ad Visits Delta']].apply(sum)"
   ]
  },
  {
   "cell_type": "code",
   "execution_count": 25,
   "metadata": {},
   "outputs": [
    {
     "data": {
      "text/html": [
       "<div>\n",
       "<style scoped>\n",
       "    .dataframe tbody tr th:only-of-type {\n",
       "        vertical-align: middle;\n",
       "    }\n",
       "\n",
       "    .dataframe tbody tr th {\n",
       "        vertical-align: top;\n",
       "    }\n",
       "\n",
       "    .dataframe thead th {\n",
       "        text-align: right;\n",
       "    }\n",
       "</style>\n",
       "<table border=\"1\" class=\"dataframe\">\n",
       "  <thead>\n",
       "    <tr style=\"text-align: right;\">\n",
       "      <th></th>\n",
       "      <th>Total Visits Delta</th>\n",
       "      <th>Total Ad Visits Delta</th>\n",
       "    </tr>\n",
       "    <tr>\n",
       "      <th>Website Vertical</th>\n",
       "      <th></th>\n",
       "      <th></th>\n",
       "    </tr>\n",
       "  </thead>\n",
       "  <tbody>\n",
       "    <tr>\n",
       "      <th>Adult</th>\n",
       "      <td>4.094991e+06</td>\n",
       "      <td>1.138613e+06</td>\n",
       "    </tr>\n",
       "    <tr>\n",
       "      <th>Arts and Entertainment</th>\n",
       "      <td>3.266995e+10</td>\n",
       "      <td>3.483256e+07</td>\n",
       "    </tr>\n",
       "    <tr>\n",
       "      <th>Business and Consumer Services</th>\n",
       "      <td>1.138902e+08</td>\n",
       "      <td>1.306918e+07</td>\n",
       "    </tr>\n",
       "    <tr>\n",
       "      <th>Community and Society</th>\n",
       "      <td>3.239878e+07</td>\n",
       "      <td>-8.209715e+05</td>\n",
       "    </tr>\n",
       "    <tr>\n",
       "      <th>Computers Electronics and Technology</th>\n",
       "      <td>1.646440e+10</td>\n",
       "      <td>2.284277e+07</td>\n",
       "    </tr>\n",
       "    <tr>\n",
       "      <th>E-commerce and Shopping</th>\n",
       "      <td>4.624178e+08</td>\n",
       "      <td>-6.103270e+07</td>\n",
       "    </tr>\n",
       "    <tr>\n",
       "      <th>Finance</th>\n",
       "      <td>3.673970e+08</td>\n",
       "      <td>-1.453591e+06</td>\n",
       "    </tr>\n",
       "    <tr>\n",
       "      <th>Food and Drink</th>\n",
       "      <td>2.178794e+08</td>\n",
       "      <td>-2.778691e+06</td>\n",
       "    </tr>\n",
       "    <tr>\n",
       "      <th>Gambling</th>\n",
       "      <td>-1.201752e+07</td>\n",
       "      <td>7.111972e+05</td>\n",
       "    </tr>\n",
       "    <tr>\n",
       "      <th>Games</th>\n",
       "      <td>4.577416e+08</td>\n",
       "      <td>5.210474e+06</td>\n",
       "    </tr>\n",
       "    <tr>\n",
       "      <th>Health</th>\n",
       "      <td>1.838081e+08</td>\n",
       "      <td>3.166552e+06</td>\n",
       "    </tr>\n",
       "    <tr>\n",
       "      <th>Heavy Industry and Engineering</th>\n",
       "      <td>1.375339e+07</td>\n",
       "      <td>8.122176e+05</td>\n",
       "    </tr>\n",
       "    <tr>\n",
       "      <th>Hobbies and Leisure</th>\n",
       "      <td>1.490198e+07</td>\n",
       "      <td>-7.103213e+05</td>\n",
       "    </tr>\n",
       "    <tr>\n",
       "      <th>Home and Garden</th>\n",
       "      <td>8.129758e+07</td>\n",
       "      <td>1.284964e+07</td>\n",
       "    </tr>\n",
       "    <tr>\n",
       "      <th>Jobs and Career</th>\n",
       "      <td>-1.091814e+08</td>\n",
       "      <td>-5.473419e+06</td>\n",
       "    </tr>\n",
       "    <tr>\n",
       "      <th>Law and Government</th>\n",
       "      <td>2.780332e+08</td>\n",
       "      <td>-1.935891e+05</td>\n",
       "    </tr>\n",
       "    <tr>\n",
       "      <th>Lifestyle</th>\n",
       "      <td>-1.506649e+08</td>\n",
       "      <td>-3.901807e+07</td>\n",
       "    </tr>\n",
       "    <tr>\n",
       "      <th>News and Media</th>\n",
       "      <td>3.419887e+09</td>\n",
       "      <td>5.158454e+06</td>\n",
       "    </tr>\n",
       "    <tr>\n",
       "      <th>Pets and Animals</th>\n",
       "      <td>1.577673e+07</td>\n",
       "      <td>1.632965e+06</td>\n",
       "    </tr>\n",
       "    <tr>\n",
       "      <th>Reference Materials</th>\n",
       "      <td>-1.390463e+07</td>\n",
       "      <td>-2.604039e+06</td>\n",
       "    </tr>\n",
       "    <tr>\n",
       "      <th>Science and Education</th>\n",
       "      <td>8.487970e+08</td>\n",
       "      <td>8.332250e+06</td>\n",
       "    </tr>\n",
       "    <tr>\n",
       "      <th>Sports</th>\n",
       "      <td>-2.278424e+08</td>\n",
       "      <td>-5.447886e+06</td>\n",
       "    </tr>\n",
       "    <tr>\n",
       "      <th>Travel and Tourism</th>\n",
       "      <td>-8.146866e+08</td>\n",
       "      <td>-1.719787e+08</td>\n",
       "    </tr>\n",
       "    <tr>\n",
       "      <th>Vehicles</th>\n",
       "      <td>-7.534150e+07</td>\n",
       "      <td>-3.519313e+06</td>\n",
       "    </tr>\n",
       "  </tbody>\n",
       "</table>\n",
       "</div>"
      ],
      "text/plain": [
       "                                      Total Visits Delta  \\\n",
       "Website Vertical                                           \n",
       "Adult                                       4.094991e+06   \n",
       "Arts and Entertainment                      3.266995e+10   \n",
       "Business and Consumer Services              1.138902e+08   \n",
       "Community and Society                       3.239878e+07   \n",
       "Computers Electronics and Technology        1.646440e+10   \n",
       "E-commerce and Shopping                     4.624178e+08   \n",
       "Finance                                     3.673970e+08   \n",
       "Food and Drink                              2.178794e+08   \n",
       "Gambling                                   -1.201752e+07   \n",
       "Games                                       4.577416e+08   \n",
       "Health                                      1.838081e+08   \n",
       "Heavy Industry and Engineering              1.375339e+07   \n",
       "Hobbies and Leisure                         1.490198e+07   \n",
       "Home and Garden                             8.129758e+07   \n",
       "Jobs and Career                            -1.091814e+08   \n",
       "Law and Government                          2.780332e+08   \n",
       "Lifestyle                                  -1.506649e+08   \n",
       "News and Media                              3.419887e+09   \n",
       "Pets and Animals                            1.577673e+07   \n",
       "Reference Materials                        -1.390463e+07   \n",
       "Science and Education                       8.487970e+08   \n",
       "Sports                                     -2.278424e+08   \n",
       "Travel and Tourism                         -8.146866e+08   \n",
       "Vehicles                                   -7.534150e+07   \n",
       "\n",
       "                                      Total Ad Visits Delta  \n",
       "Website Vertical                                             \n",
       "Adult                                          1.138613e+06  \n",
       "Arts and Entertainment                         3.483256e+07  \n",
       "Business and Consumer Services                 1.306918e+07  \n",
       "Community and Society                         -8.209715e+05  \n",
       "Computers Electronics and Technology           2.284277e+07  \n",
       "E-commerce and Shopping                       -6.103270e+07  \n",
       "Finance                                       -1.453591e+06  \n",
       "Food and Drink                                -2.778691e+06  \n",
       "Gambling                                       7.111972e+05  \n",
       "Games                                          5.210474e+06  \n",
       "Health                                         3.166552e+06  \n",
       "Heavy Industry and Engineering                 8.122176e+05  \n",
       "Hobbies and Leisure                           -7.103213e+05  \n",
       "Home and Garden                                1.284964e+07  \n",
       "Jobs and Career                               -5.473419e+06  \n",
       "Law and Government                            -1.935891e+05  \n",
       "Lifestyle                                     -3.901807e+07  \n",
       "News and Media                                 5.158454e+06  \n",
       "Pets and Animals                               1.632965e+06  \n",
       "Reference Materials                           -2.604039e+06  \n",
       "Science and Education                          8.332250e+06  \n",
       "Sports                                        -5.447886e+06  \n",
       "Travel and Tourism                            -1.719787e+08  \n",
       "Vehicles                                      -3.519313e+06  "
      ]
     },
     "execution_count": 25,
     "metadata": {},
     "output_type": "execute_result"
    }
   ],
   "source": [
    "vertical.head(50)"
   ]
  },
  {
   "cell_type": "code",
   "execution_count": null,
   "metadata": {},
   "outputs": [],
   "source": []
  }
 ],
 "metadata": {
  "kernelspec": {
   "display_name": "Python 3",
   "language": "python",
   "name": "python3"
  },
  "language_info": {
   "codemirror_mode": {
    "name": "ipython",
    "version": 3
   },
   "file_extension": ".py",
   "mimetype": "text/x-python",
   "name": "python",
   "nbconvert_exporter": "python",
   "pygments_lexer": "ipython3",
   "version": "3.7.7"
  },
  "widgets": {
   "application/vnd.jupyter.widget-state+json": {
    "state": {},
    "version_major": 2,
    "version_minor": 0
   }
  }
 },
 "nbformat": 4,
 "nbformat_minor": 4
}
