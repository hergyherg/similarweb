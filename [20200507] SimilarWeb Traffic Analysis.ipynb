{
 "cells": [
  {
   "cell_type": "markdown",
   "metadata": {},
   "source": [
    "##### Import relevant packages"
   ]
  },
  {
   "cell_type": "code",
   "execution_count": 86,
   "metadata": {},
   "outputs": [],
   "source": [
    "import pandas as pd\n",
    "import matplotlib"
   ]
  },
  {
   "cell_type": "markdown",
   "metadata": {},
   "source": [
    "##### Reference similarweb .csv files and read to DataFrames (need to be more programmatic)"
   ]
  },
  {
   "cell_type": "code",
   "execution_count": 87,
   "metadata": {},
   "outputs": [],
   "source": [
    "feb_data_file = 'similarweb_feb.csv'\n",
    "mar_data_file = 'similarweb_march.csv'\n",
    "apr_data_file = 'similarweb_april.csv'"
   ]
  },
  {
   "cell_type": "code",
   "execution_count": 88,
   "metadata": {},
   "outputs": [],
   "source": [
    "df_feb = pd.read_csv(feb_data_file)\n",
    "df_mar = pd.read_csv(mar_data_file)\n",
    "df_apr = pd.read_csv(apr_data_file, encoding='iso-8859-1')"
   ]
  },
  {
   "cell_type": "markdown",
   "metadata": {},
   "source": [
    "##### Preview the top 5 rows of the February DataFrame"
   ]
  },
  {
   "cell_type": "code",
   "execution_count": 89,
   "metadata": {},
   "outputs": [
    {
     "data": {
      "text/html": [
       "<div>\n",
       "<style scoped>\n",
       "    .dataframe tbody tr th:only-of-type {\n",
       "        vertical-align: middle;\n",
       "    }\n",
       "\n",
       "    .dataframe tbody tr th {\n",
       "        vertical-align: top;\n",
       "    }\n",
       "\n",
       "    .dataframe thead th {\n",
       "        text-align: right;\n",
       "    }\n",
       "</style>\n",
       "<table border=\"1\" class=\"dataframe\">\n",
       "  <thead>\n",
       "    <tr style=\"text-align: right;\">\n",
       "      <th></th>\n",
       "      <th>Account Name</th>\n",
       "      <th>Name</th>\n",
       "      <th>Average Visit Duration</th>\n",
       "      <th>Website Category</th>\n",
       "      <th>2nd Traffic Country</th>\n",
       "      <th>Bounce Rate</th>\n",
       "      <th>Category Rank</th>\n",
       "      <th>Desktop Visits Share</th>\n",
       "      <th>Direct Visits Share</th>\n",
       "      <th>Display Ads Visits Share</th>\n",
       "      <th>...</th>\n",
       "      <th>Mobile Web  Visits Share</th>\n",
       "      <th>Monthly Unique Visitors</th>\n",
       "      <th>Pages Per Visit</th>\n",
       "      <th>Total Monthly Visits</th>\n",
       "      <th>Total Visits MoM Growth</th>\n",
       "      <th>Top Traffic Country</th>\n",
       "      <th>Social Visits Share</th>\n",
       "      <th>Paid Search Visits Share</th>\n",
       "      <th>Account ID</th>\n",
       "      <th>Snapshot Date</th>\n",
       "    </tr>\n",
       "  </thead>\n",
       "  <tbody>\n",
       "    <tr>\n",
       "      <th>0</th>\n",
       "      <td>Meez Culinary Solutions LLC</td>\n",
       "      <td>getmeez.com</td>\n",
       "      <td>NaN</td>\n",
       "      <td>NaN</td>\n",
       "      <td>NaN</td>\n",
       "      <td>NaN</td>\n",
       "      <td>NaN</td>\n",
       "      <td>0.00</td>\n",
       "      <td>NaN</td>\n",
       "      <td>NaN</td>\n",
       "      <td>...</td>\n",
       "      <td>0.00</td>\n",
       "      <td>0</td>\n",
       "      <td>NaN</td>\n",
       "      <td>NaN</td>\n",
       "      <td>-100.00</td>\n",
       "      <td>NaN</td>\n",
       "      <td>NaN</td>\n",
       "      <td>NaN</td>\n",
       "      <td>0012K00001fHHQN</td>\n",
       "      <td>4/1/2020</td>\n",
       "    </tr>\n",
       "    <tr>\n",
       "      <th>1</th>\n",
       "      <td>Cheetah</td>\n",
       "      <td>gocheetah.com</td>\n",
       "      <td>00:01:23</td>\n",
       "      <td>NaN</td>\n",
       "      <td>Israel</td>\n",
       "      <td>48.51</td>\n",
       "      <td>NaN</td>\n",
       "      <td>75.06</td>\n",
       "      <td>49.56</td>\n",
       "      <td>NaN</td>\n",
       "      <td>...</td>\n",
       "      <td>24.94</td>\n",
       "      <td>19672</td>\n",
       "      <td>2.17</td>\n",
       "      <td>28943.0</td>\n",
       "      <td>57.65</td>\n",
       "      <td>United States</td>\n",
       "      <td>9.13</td>\n",
       "      <td>0.96</td>\n",
       "      <td>0012K00001hjtaz</td>\n",
       "      <td>4/1/2020</td>\n",
       "    </tr>\n",
       "    <tr>\n",
       "      <th>2</th>\n",
       "      <td>Wunderlich Securities Inc</td>\n",
       "      <td>wunderlichsecurities.com</td>\n",
       "      <td>NaN</td>\n",
       "      <td>NaN</td>\n",
       "      <td>NaN</td>\n",
       "      <td>NaN</td>\n",
       "      <td>NaN</td>\n",
       "      <td>0.00</td>\n",
       "      <td>NaN</td>\n",
       "      <td>NaN</td>\n",
       "      <td>...</td>\n",
       "      <td>0.00</td>\n",
       "      <td>0</td>\n",
       "      <td>NaN</td>\n",
       "      <td>NaN</td>\n",
       "      <td>-100.00</td>\n",
       "      <td>NaN</td>\n",
       "      <td>NaN</td>\n",
       "      <td>NaN</td>\n",
       "      <td>0016A00000n9zBj</td>\n",
       "      <td>4/1/2020</td>\n",
       "    </tr>\n",
       "    <tr>\n",
       "      <th>3</th>\n",
       "      <td>The Grand Island Independent</td>\n",
       "      <td>theindependent.com</td>\n",
       "      <td>00:01:56</td>\n",
       "      <td>News and Media</td>\n",
       "      <td>Canada</td>\n",
       "      <td>61.63</td>\n",
       "      <td>9646.0</td>\n",
       "      <td>33.58</td>\n",
       "      <td>30.49</td>\n",
       "      <td>0.2</td>\n",
       "      <td>...</td>\n",
       "      <td>66.42</td>\n",
       "      <td>198054</td>\n",
       "      <td>2.80</td>\n",
       "      <td>500284.0</td>\n",
       "      <td>40.42</td>\n",
       "      <td>United States</td>\n",
       "      <td>9.94</td>\n",
       "      <td>NaN</td>\n",
       "      <td>0016A00000n9yFu</td>\n",
       "      <td>4/1/2020</td>\n",
       "    </tr>\n",
       "    <tr>\n",
       "      <th>4</th>\n",
       "      <td>Memphis Communications Corp</td>\n",
       "      <td>memphiscommunications.net</td>\n",
       "      <td>00:04:13</td>\n",
       "      <td>NaN</td>\n",
       "      <td>Slovakia</td>\n",
       "      <td>61.62</td>\n",
       "      <td>NaN</td>\n",
       "      <td>100.00</td>\n",
       "      <td>32.79</td>\n",
       "      <td>NaN</td>\n",
       "      <td>...</td>\n",
       "      <td>0.00</td>\n",
       "      <td>870</td>\n",
       "      <td>2.69</td>\n",
       "      <td>1686.0</td>\n",
       "      <td>63.40</td>\n",
       "      <td>United States</td>\n",
       "      <td>0.27</td>\n",
       "      <td>NaN</td>\n",
       "      <td>0016A00000n9vjn</td>\n",
       "      <td>4/1/2020</td>\n",
       "    </tr>\n",
       "  </tbody>\n",
       "</table>\n",
       "<p>5 rows × 24 columns</p>\n",
       "</div>"
      ],
      "text/plain": [
       "                   Account Name                       Name  \\\n",
       "0   Meez Culinary Solutions LLC                getmeez.com   \n",
       "1                       Cheetah              gocheetah.com   \n",
       "2     Wunderlich Securities Inc   wunderlichsecurities.com   \n",
       "3  The Grand Island Independent         theindependent.com   \n",
       "4   Memphis Communications Corp  memphiscommunications.net   \n",
       "\n",
       "  Average Visit Duration Website Category 2nd Traffic Country  Bounce Rate  \\\n",
       "0                    NaN              NaN                 NaN          NaN   \n",
       "1               00:01:23              NaN              Israel        48.51   \n",
       "2                    NaN              NaN                 NaN          NaN   \n",
       "3               00:01:56   News and Media              Canada        61.63   \n",
       "4               00:04:13              NaN            Slovakia        61.62   \n",
       "\n",
       "   Category Rank  Desktop Visits Share  Direct Visits Share  \\\n",
       "0            NaN                  0.00                  NaN   \n",
       "1            NaN                 75.06                49.56   \n",
       "2            NaN                  0.00                  NaN   \n",
       "3         9646.0                 33.58                30.49   \n",
       "4            NaN                100.00                32.79   \n",
       "\n",
       "   Display Ads Visits Share  ... Mobile Web  Visits Share  \\\n",
       "0                       NaN  ...                     0.00   \n",
       "1                       NaN  ...                    24.94   \n",
       "2                       NaN  ...                     0.00   \n",
       "3                       0.2  ...                    66.42   \n",
       "4                       NaN  ...                     0.00   \n",
       "\n",
       "   Monthly Unique Visitors  Pages Per Visit  Total Monthly Visits  \\\n",
       "0                        0              NaN                   NaN   \n",
       "1                    19672             2.17               28943.0   \n",
       "2                        0              NaN                   NaN   \n",
       "3                   198054             2.80              500284.0   \n",
       "4                      870             2.69                1686.0   \n",
       "\n",
       "   Total Visits MoM Growth  Top Traffic Country  Social Visits Share  \\\n",
       "0                  -100.00                  NaN                  NaN   \n",
       "1                    57.65        United States                 9.13   \n",
       "2                  -100.00                  NaN                  NaN   \n",
       "3                    40.42        United States                 9.94   \n",
       "4                    63.40        United States                 0.27   \n",
       "\n",
       "   Paid Search Visits Share       Account ID Snapshot Date  \n",
       "0                       NaN  0012K00001fHHQN      4/1/2020  \n",
       "1                      0.96  0012K00001hjtaz      4/1/2020  \n",
       "2                       NaN  0016A00000n9zBj      4/1/2020  \n",
       "3                       NaN  0016A00000n9yFu      4/1/2020  \n",
       "4                       NaN  0016A00000n9vjn      4/1/2020  \n",
       "\n",
       "[5 rows x 24 columns]"
      ]
     },
     "execution_count": 89,
     "metadata": {},
     "output_type": "execute_result"
    }
   ],
   "source": [
    "df_apr.head()"
   ]
  },
  {
   "cell_type": "markdown",
   "metadata": {},
   "source": [
    "##### Reorder columns to most logical sequencing (not required)"
   ]
  },
  {
   "cell_type": "code",
   "execution_count": 90,
   "metadata": {},
   "outputs": [],
   "source": [
    "columns_ordered = ['Account ID','Account Name', 'Name', 'Domain', 'Website Category','Category Rank',\n",
    "                   'Global Rank', 'Top Traffic Country','2nd Traffic Country', 'Has Data','Total Monthly Visits',\n",
    "                   'Monthly Unique Visitors','Bounce Rate', 'Pages Per Visit', 'Average Visit Duration',\n",
    "                   'Total Visits MoM Growth','Desktop Visits Share', 'Mobile Web  Visits Share',\n",
    "                   'Direct Visits Share','Display Ads Visits Share','Mail Visits Share',\n",
    "                   'Paid Search Visits Share', 'Social Visits Share','Snapshot Date']\n",
    "df_feb = df_feb[columns_ordered]\n",
    "df_mar = df_mar[columns_ordered]\n",
    "df_apr = df_apr[columns_ordered]"
   ]
  },
  {
   "cell_type": "markdown",
   "metadata": {},
   "source": [
    "##### Fill all #NAs with 0s for Monthly Visits and Paid Search/Display Ads columns"
   ]
  },
  {
   "cell_type": "code",
   "execution_count": 91,
   "metadata": {},
   "outputs": [],
   "source": [
    "df_feb['Total Monthly Visits'].fillna(0, inplace=True)\n",
    "df_feb['Paid Search Visits Share'].fillna(0, inplace=True)\n",
    "df_feb['Display Ads Visits Share'].fillna(0, inplace=True)\n",
    "\n",
    "df_mar['Total Monthly Visits'].fillna(0, inplace=True)\n",
    "df_mar['Paid Search Visits Share'].fillna(0, inplace=True)\n",
    "df_mar['Display Ads Visits Share'].fillna(0, inplace=True)\n",
    "\n",
    "df_apr['Total Monthly Visits'].fillna(0, inplace=True)\n",
    "df_apr['Paid Search Visits Share'].fillna(0, inplace=True)\n",
    "df_apr['Display Ads Visits Share'].fillna(0, inplace=True)"
   ]
  },
  {
   "cell_type": "markdown",
   "metadata": {},
   "source": [
    "##### Compute Total Ad Spend Visits Share (Paid Search + Display Ads) then calculate # of visits from Total Monthly Visits"
   ]
  },
  {
   "cell_type": "code",
   "execution_count": 92,
   "metadata": {},
   "outputs": [],
   "source": [
    "df_feb['Total Ad Spend Visits Share'] = df_feb['Paid Search Visits Share'] + df_feb['Display Ads Visits Share']\n",
    "df_feb['Total Ad Spend Visits'] = df_feb['Total Monthly Visits']*df_feb['Total Ad Spend Visits Share']/100\n",
    "\n",
    "df_mar['Total Ad Spend Visits Share'] = df_mar['Paid Search Visits Share'] + df_mar['Display Ads Visits Share']\n",
    "df_mar['Total Ad Spend Visits'] = df_mar['Total Monthly Visits']*df_mar['Total Ad Spend Visits Share']/100\n",
    "\n",
    "df_apr['Total Ad Spend Visits Share'] = df_apr['Paid Search Visits Share'] + df_apr['Display Ads Visits Share']\n",
    "df_apr['Total Ad Spend Visits'] = df_apr['Total Monthly Visits']*df_apr['Total Ad Spend Visits Share']/100"
   ]
  },
  {
   "cell_type": "markdown",
   "metadata": {},
   "source": [
    "###### Slim down DataFrame for only relevant columns to be output to .csv"
   ]
  },
  {
   "cell_type": "code",
   "execution_count": 93,
   "metadata": {},
   "outputs": [],
   "source": [
    "df_feb_slim = df_feb[['Account ID', 'Account Name', 'Domain', 'Website Category', 'Total Monthly Visits',\n",
    "                     'Total Visits MoM Growth','Total Ad Spend Visits Share','Total Ad Spend Visits']]\n",
    "\n",
    "df_mar_slim = df_mar[['Account ID', 'Account Name', 'Domain', 'Website Category', 'Total Monthly Visits',\n",
    "                     'Total Visits MoM Growth','Total Ad Spend Visits Share','Total Ad Spend Visits']]\n",
    "\n",
    "df_apr_slim = df_apr[['Account ID', 'Account Name', 'Domain', 'Website Category', 'Total Monthly Visits',\n",
    "                     'Total Visits MoM Growth','Total Ad Spend Visits Share','Total Ad Spend Visits']]"
   ]
  },
  {
   "cell_type": "markdown",
   "metadata": {},
   "source": [
    "###### Left join March and February, add suffixes to column names and drop redundant columns"
   ]
  },
  {
   "cell_type": "code",
   "execution_count": 94,
   "metadata": {},
   "outputs": [],
   "source": [
    "merged_apr_mar = df_apr_slim.merge(df_mar_slim,on=['Account ID'],how='left',suffixes=('_apr', '_mar'))\n",
    "\n",
    "df_feb_slim.columns = df_feb_slim.columns.map(lambda x: str(x) + '_feb' if x != 'Account ID' else x)\n",
    "\n",
    "merged_apr_mar_feb = merged_apr_mar.merge(df_feb_slim,on=['Account ID'],how='left')\n",
    "\n",
    "merged_apr_mar_feb.drop(columns=['Account Name_feb', 'Domain_feb', 'Website Category_feb','Account Name_mar', 'Domain_mar', 'Website Category_mar'], axis=1, inplace=True)"
   ]
  },
  {
   "cell_type": "markdown",
   "metadata": {},
   "source": [
    "##### Convert Account ID (15-char) to 18-char ID"
   ]
  },
  {
   "cell_type": "code",
   "execution_count": 95,
   "metadata": {},
   "outputs": [],
   "source": [
    "account_map_file = 'account_id_map.csv'\n",
    "df_map = pd.read_csv(account_map_file, encoding='iso-8859-1')\n",
    "\n",
    "\n",
    "df_map.drop(columns=['Parent Account ID'], axis=1, inplace=True)\n",
    "\n",
    "merged_apr_mar_feb = merged_apr_mar_feb.merge(df_map, on=['Account ID'], how='left')\n",
    "\n",
    "cols = list(merged_apr_mar_feb.columns)\n",
    "cols.insert(0,cols.pop(cols.index('Account ID (18)')))\n",
    "merged_apr_mar_feb = merged_apr_mar_feb.loc[:,cols]\n"
   ]
  },
  {
   "cell_type": "markdown",
   "metadata": {},
   "source": [
    "##### Export merged DataFrame to .csv file on local repository"
   ]
  },
  {
   "cell_type": "code",
   "execution_count": 96,
   "metadata": {},
   "outputs": [],
   "source": [
    "merged_apr_mar_feb.to_csv('feb_march_apr_similarweb.csv')"
   ]
  },
  {
   "cell_type": "code",
   "execution_count": null,
   "metadata": {},
   "outputs": [],
   "source": []
  }
 ],
 "metadata": {
  "kernelspec": {
   "display_name": "Python 3",
   "language": "python",
   "name": "python3"
  },
  "language_info": {
   "codemirror_mode": {
    "name": "ipython",
    "version": 3
   },
   "file_extension": ".py",
   "mimetype": "text/x-python",
   "name": "python",
   "nbconvert_exporter": "python",
   "pygments_lexer": "ipython3",
   "version": "3.7.7"
  },
  "widgets": {
   "application/vnd.jupyter.widget-state+json": {
    "state": {},
    "version_major": 2,
    "version_minor": 0
   }
  }
 },
 "nbformat": 4,
 "nbformat_minor": 4
}
